{
 "cells": [
  {
   "cell_type": "code",
   "execution_count": null,
   "id": "0cdfd5fd-240d-49e2-acde-7d1ec18d4afc",
   "metadata": {},
   "outputs": [],
   "source": []
  }
 ],
 "metadata": {
  "kernelspec": {
   "display_name": "",
   "name": ""
  },
  "language_info": {
   "name": ""
  }
 },
 "nbformat": 4,
 "nbformat_minor": 5
}
